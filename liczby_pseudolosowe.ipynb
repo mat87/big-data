{
  "nbformat": 4,
  "nbformat_minor": 0,
  "metadata": {
    "colab": {
      "provenance": [],
      "authorship_tag": "ABX9TyNRKMTGTTUOtmOnvgXUFE2C",
      "include_colab_link": true
    },
    "kernelspec": {
      "name": "python3",
      "display_name": "Python 3"
    },
    "language_info": {
      "name": "python"
    }
  },
  "cells": [
    {
      "cell_type": "markdown",
      "metadata": {
        "id": "view-in-github",
        "colab_type": "text"
      },
      "source": [
        "<a href=\"https://colab.research.google.com/github/mat87/big-data/blob/master/liczby_pseudolosowe.ipynb\" target=\"_parent\"><img src=\"https://colab.research.google.com/assets/colab-badge.svg\" alt=\"Open In Colab\"/></a>"
      ]
    },
    {
      "cell_type": "code",
      "execution_count": 1,
      "metadata": {
        "id": "kQCAtL2KMofE"
      },
      "outputs": [],
      "source": [
        "\n",
        "import numpy as np"
      ]
    },
    {
      "cell_type": "code",
      "source": [
        "np.random.seed(0)"
      ],
      "metadata": {
        "id": "08muxRuwNBeN"
      },
      "execution_count": null,
      "outputs": []
    },
    {
      "cell_type": "code",
      "source": [
        "np.random.randn(10, 5)"
      ],
      "metadata": {
        "colab": {
          "base_uri": "https://localhost:8080/"
        },
        "id": "sbKnzARgNa61",
        "outputId": "0c2121a8-39f2-4746-846a-2fb1fcc486f6"
      },
      "execution_count": 4,
      "outputs": [
        {
          "output_type": "execute_result",
          "data": {
            "text/plain": [
              "array([[ 0.96214504, -0.85155053,  0.19127482,  0.01178696,  1.66128059],\n",
              "       [-0.48932681, -1.03928894, -0.51029987, -0.11326431,  1.52924681],\n",
              "       [ 0.90147681, -0.93878963, -1.02225442,  1.23030856,  0.61696142],\n",
              "       [ 0.85235984, -0.84657127, -0.35356283,  2.4196409 ,  1.93051272],\n",
              "       [ 1.32474858, -0.62760572, -0.15475701, -1.11796923, -1.06010009],\n",
              "       [ 0.80368332, -1.0759016 , -1.77414768,  0.25643363, -0.08327985],\n",
              "       [ 0.76539132, -0.54056288,  0.80434859, -1.97174331, -0.5030308 ],\n",
              "       [ 0.31085809, -0.45625714, -0.58258585, -0.86726012, -1.43528804],\n",
              "       [-1.38137183,  2.79099604,  0.63982786,  0.13794205, -1.7240277 ],\n",
              "       [ 1.53040114,  0.61269739,  0.57331687,  0.3470848 ,  0.16322356]])"
            ]
          },
          "metadata": {},
          "execution_count": 4
        }
      ]
    },
    {
      "cell_type": "code",
      "source": [
        "np.random.rand()"
      ],
      "metadata": {
        "colab": {
          "base_uri": "https://localhost:8080/"
        },
        "id": "xOzv32AqN27S",
        "outputId": "1b5f6866-da62-4038-d878-8c71d1e753db"
      },
      "execution_count": 9,
      "outputs": [
        {
          "output_type": "execute_result",
          "data": {
            "text/plain": [
              "0.7886501966878394"
            ]
          },
          "metadata": {},
          "execution_count": 9
        }
      ]
    },
    {
      "cell_type": "code",
      "source": [
        "np.random.rand(10,5)"
      ],
      "metadata": {
        "colab": {
          "base_uri": "https://localhost:8080/"
        },
        "id": "QYoyEFyMOBpB",
        "outputId": "02e1eab4-82d9-4a0e-cce0-2ab9cd8c4677"
      },
      "execution_count": 11,
      "outputs": [
        {
          "output_type": "execute_result",
          "data": {
            "text/plain": [
              "array([[0.37334126, 0.39841244, 0.81960178, 0.77604333, 0.96571407],\n",
              "       [0.8102068 , 0.85399407, 0.34231357, 0.88966531, 0.15348236],\n",
              "       [0.10422385, 0.40075508, 0.11539893, 0.29437482, 0.63008128],\n",
              "       [0.36878977, 0.61758144, 0.34224347, 0.98643453, 0.04281634],\n",
              "       [0.47479053, 0.00670236, 0.79398775, 0.27994199, 0.77451019],\n",
              "       [0.52893919, 0.78040267, 0.35390621, 0.04438812, 0.36349737],\n",
              "       [0.08743961, 0.85776765, 0.52815305, 0.91398905, 0.4478951 ],\n",
              "       [0.30200018, 0.56134695, 0.86049384, 0.32933182, 0.57937667],\n",
              "       [0.58659217, 0.3189053 , 0.71005522, 0.08834515, 0.47017573],\n",
              "       [0.07385261, 0.53465352, 0.92112471, 0.81982272, 0.29116157]])"
            ]
          },
          "metadata": {},
          "execution_count": 11
        }
      ]
    },
    {
      "cell_type": "code",
      "source": [
        "np.random.randint(10)"
      ],
      "metadata": {
        "colab": {
          "base_uri": "https://localhost:8080/"
        },
        "id": "j5ztQcFxOOYC",
        "outputId": "4a016387-9370-43d7-f58f-2b6d9120a9dd"
      },
      "execution_count": 12,
      "outputs": [
        {
          "output_type": "execute_result",
          "data": {
            "text/plain": [
              "3"
            ]
          },
          "metadata": {},
          "execution_count": 12
        }
      ]
    },
    {
      "cell_type": "code",
      "source": [
        "np.random.choice([3,4,5,6,3,2])"
      ],
      "metadata": {
        "colab": {
          "base_uri": "https://localhost:8080/"
        },
        "id": "143u1TcnOn7g",
        "outputId": "3f58eb0a-9a06-4525-a92c-87788d5e1e18"
      },
      "execution_count": 22,
      "outputs": [
        {
          "output_type": "execute_result",
          "data": {
            "text/plain": [
              "3"
            ]
          },
          "metadata": {},
          "execution_count": 22
        }
      ]
    },
    {
      "cell_type": "code",
      "source": [
        "data = np.arange(10)\n",
        "data"
      ],
      "metadata": {
        "colab": {
          "base_uri": "https://localhost:8080/"
        },
        "id": "GaDdsKFtPUWR",
        "outputId": "c6579c4a-cbfc-48b9-f6c9-a06cd1c06eb9"
      },
      "execution_count": 24,
      "outputs": [
        {
          "output_type": "execute_result",
          "data": {
            "text/plain": [
              "array([0, 1, 2, 3, 4, 5, 6, 7, 8, 9])"
            ]
          },
          "metadata": {},
          "execution_count": 24
        }
      ]
    },
    {
      "cell_type": "code",
      "source": [
        "np.random.shuffle(data)\n",
        "data"
      ],
      "metadata": {
        "colab": {
          "base_uri": "https://localhost:8080/"
        },
        "id": "Dje0UevpPckh",
        "outputId": "e341aabe-ed74-4732-f183-eb8288812545"
      },
      "execution_count": 29,
      "outputs": [
        {
          "output_type": "execute_result",
          "data": {
            "text/plain": [
              "array([9, 7, 5, 1, 3, 2, 6, 8, 0, 4])"
            ]
          },
          "metadata": {},
          "execution_count": 29
        }
      ]
    }
  ]
}